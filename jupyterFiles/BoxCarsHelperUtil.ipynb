{
 "cells": [
  {
   "cell_type": "code",
   "execution_count": 1,
   "metadata": {},
   "outputs": [],
   "source": [
    "import os\n",
    "import scipy.io\n",
    "from torchvision import transforms\n",
    "from torch.utils.data import Dataset, DataLoader\n",
    "from PIL import Image\n",
    "import pickle\n",
    "import numpy as np\n",
    "import pandas as pd\n",
    "import cv2\n",
    "import matplotlib.pyplot as plt\n"
   ]
  },
  {
   "cell_type": "markdown",
   "metadata": {},
   "source": [
    "# Converting boxcars into indexes"
   ]
  },
  {
   "cell_type": "code",
   "execution_count": 2,
   "metadata": {},
   "outputs": [],
   "source": [
    "def load_cache(path, encoding=\"latin-1\", fix_imports=True):\n",
    "        \"\"\"\n",
    "        encoding latin-1 is default for Python2 compatibility\n",
    "        \"\"\"\n",
    "        with open(path, \"rb\") as f:\n",
    "            return pickle.load(f, encoding=encoding, fix_imports=True)\n",
    "        \n",
    "def create_unique_ann_list():\n",
    "        \n",
    "        for data in dataset['samples']:\n",
    "            new_ann = data['annotation']\n",
    "            if new_ann not in cars_annotations:\n",
    "                cars_annotations.append(new_ann)\n",
    "\n",
    "def convert_ann_to_num(ann):\n",
    "    if ann not in cars_annotations:\n",
    "        cars_annotations.append(ann)\n",
    "    return cars_annotations.index(ann)"
   ]
  },
  {
   "cell_type": "code",
   "execution_count": 3,
   "metadata": {},
   "outputs": [
    {
     "name": "stdout",
     "output_type": "stream",
     "text": [
      "Number of annotations 693\n"
     ]
    }
   ],
   "source": [
    "cars_annotations = []\n",
    "split = load_cache('../data/BoxCars/classification_splits.pkl')['hard']\n",
    "dataset = load_cache('../data/BoxCars/dataset.pkl')\n",
    "atlas = load_cache('../data/BoxCars/atlas.pkl')\n",
    "\n",
    "create_unique_ann_list()\n",
    "print('Number of annotations ' + str(len(cars_annotations)))"
   ]
  },
  {
   "cell_type": "code",
   "execution_count": 4,
   "metadata": {},
   "outputs": [
    {
     "data": {
      "text/plain": [
       "dict_keys(['test', 'types_mapping', 'train', 'test_cameras', 'validation'])"
      ]
     },
     "execution_count": 4,
     "metadata": {},
     "output_type": "execute_result"
    }
   ],
   "source": [
    "load_cache('../data/BoxCars/classification_splits.pkl')['hard'].keys()"
   ]
  },
  {
   "cell_type": "code",
   "execution_count": 5,
   "metadata": {},
   "outputs": [
    {
     "data": {
      "text/plain": [
       "{'hyundai ix20 mpv mk1': 87,\n",
       " 'ford focus combi mk3': 0,\n",
       " 'audi a6 combi mk4': 88,\n",
       " 'ford focus combi mk1': 1,\n",
       " 'skoda roomster van mk1': 29,\n",
       " 'ford focus combi mk2': 2,\n",
       " 'skoda fabia hatchback mk3': 95,\n",
       " 'skoda fabia hatchback mk2': 30,\n",
       " 'skoda fabia hatchback mk1': 31,\n",
       " 'hyundai i20 hatchback mk1': 28,\n",
       " 'skoda superb sedan mk2': 60,\n",
       " 'citroen berlingo van mk2': 33,\n",
       " 'citroen c3 hatchback mk1': 89,\n",
       " 'peugeot 207 hatchback mk1': 62,\n",
       " 'opel vivaro van mk2': 90,\n",
       " 'peugeot 107 hatchback mk1': 34,\n",
       " 'skoda superb combi mk2': 3,\n",
       " 'skoda yeti suv mk1': 4,\n",
       " 'fiat ducato van mk3': 18,\n",
       " 'ford mondeo combi mk4': 35,\n",
       " 'ford mondeo combi mk3': 36,\n",
       " 'hyundai i30 hatchback mk1': 63,\n",
       " 'hyundai i30 hatchback mk2': 64,\n",
       " 'volvo xc90 suv mk1': 65,\n",
       " 'volkswagen golf hatchback mk4': 66,\n",
       " 'volkswagen golf hatchback mk6': 67,\n",
       " 'toyota yaris hatchback mk3': 37,\n",
       " 'volkswagen passat sedan mk6': 46,\n",
       " 'bmw x3 suv mk2': 38,\n",
       " 'volkswagen tiguan suv mk1': 39,\n",
       " 'toyota auris combi mk2': 91,\n",
       " 'porsche cayenne suv mk2': 92,\n",
       " 'skoda felicia combi mk1': 73,\n",
       " 'peugeot 308 combi mk1': 6,\n",
       " 'renault master van mk2': 40,\n",
       " 'renault master van mk3': 41,\n",
       " 'peugeot boxer van mk3': 98,\n",
       " 'fiat punto hatchback mk1': 7,\n",
       " 'fiat punto hatchback mk2': 8,\n",
       " 'kia sportage suv mk3': 93,\n",
       " 'citroen c1 hatchback mk1': 68,\n",
       " 'renault scenic mpv mk1': 42,\n",
       " 'seat alhambra mpv mk1': 43,\n",
       " 'volkswagen golf combi mk4': 94,\n",
       " 'peugeot partner van mk1': 69,\n",
       " 'peugeot partner van mk2': 70,\n",
       " 'renault laguna combi mk2': 9,\n",
       " 'hyundai getz hatchback mk1': 44,\n",
       " 'skoda fabia combi mk1': 10,\n",
       " 'skoda fabia combi mk2': 11,\n",
       " 'fiat doblo van mk1': 96,\n",
       " 'skoda rapid sedan mk1': 71,\n",
       " 'peugeot 307 combi mk1': 12,\n",
       " 'peugeot 206 hatchback mk1': 13,\n",
       " 'citroen berlingo van mk1': 32,\n",
       " 'renault megane hatchback mk3': 72,\n",
       " 'skoda superb sedan mk1': 61,\n",
       " 'volkswagen passat sedan mk5': 45,\n",
       " 'opel astra combi mk2': 14,\n",
       " 'fiat panda hatchback mk2': 15,\n",
       " 'renault thalia sedan mk1': 16,\n",
       " 'skoda citigo hatchback mk1': 97,\n",
       " 'seat cordoba sedan mk2': 74,\n",
       " 'volkswagen touareg suv mk2': 75,\n",
       " 'seat leon hatchback mk2': 76,\n",
       " 'skoda octavia combi mk2': 77,\n",
       " 'skoda octavia combi mk3': 78,\n",
       " 'skoda octavia combi mk1': 79,\n",
       " 'audi a6 sedan mk4': 101,\n",
       " 'volkswagen transporter van mk4': 47,\n",
       " 'volkswagen transporter van mk5': 48,\n",
       " 'hyundai i30 combi mk2': 49,\n",
       " 'audi q7 suv mk1': 99,\n",
       " 'ford s-max mpv mk1': 100,\n",
       " 'skoda felicia hatchback mk2': 80,\n",
       " 'skoda felicia hatchback mk1': 81,\n",
       " 'opel corsa hatchback mk4': 50,\n",
       " 'opel corsa hatchback mk3': 51,\n",
       " 'kia ceed combi mk1': 102,\n",
       " 'renault megane combi mk2': 52,\n",
       " 'renault megane combi mk3': 53,\n",
       " 'skoda felicia combi mk2': 54,\n",
       " 'renault clio hatchback mk2': 82,\n",
       " 'skoda fabia sedan mk1': 83,\n",
       " 'skoda octavia sedan mk3': 103,\n",
       " 'skoda octavia sedan mk2': 17,\n",
       " 'volvo xc60 suv mk1': 84,\n",
       " 'renault kangoo van mk1': 55,\n",
       " 'renault kangoo van mk2': 56,\n",
       " 'volkswagen sharan mpv mk1': 19,\n",
       " 'skoda octavia sedan mk1': 104,\n",
       " 'volkswagen touran mpv mk1': 20,\n",
       " 'bmw 1 hatchback mk1': 59,\n",
       " 'volkswagen passat combi mk5': 21,\n",
       " 'volkswagen passat combi mk6': 22,\n",
       " 'volkswagen passat combi mk7': 23,\n",
       " 'ford focus hatchback mk1': 24,\n",
       " 'ford focus hatchback mk2': 25,\n",
       " 'ford transit van mk6': 27,\n",
       " 'renault trafic van mk2': 85,\n",
       " 'skoda favorit hatchback mk1': 5,\n",
       " 'ford fusion mpv mk1': 58,\n",
       " 'volkswagen caddy van mk3': 105,\n",
       " 'bmw x5 suv mk2': 57,\n",
       " 'hyundai ix35 suv mk1': 86,\n",
       " 'ford transit van mk7': 26,\n",
       " 'ford fiesta hatchback mk6': 106}"
      ]
     },
     "execution_count": 5,
     "metadata": {},
     "output_type": "execute_result"
    }
   ],
   "source": [
    "load_cache('../data/BoxCars/classification_splits.pkl')['hard']['types_mapping']"
   ]
  },
  {
   "cell_type": "code",
   "execution_count": 6,
   "metadata": {
    "scrolled": true
   },
   "outputs": [],
   "source": [
    "def get_unique_list(li):\n",
    "    return list(set(li))\n",
    "\n",
    "def create_unique_multitask_list():    \n",
    "    make = []\n",
    "    mode = []\n",
    "    submodel = []\n",
    "    generation = []\n",
    "    \n",
    "    for new_ann in cars_annotations:\n",
    "        t_make,t_model,t_submodel,t_generation = new_ann.split()\n",
    "        make.append(t_make)\n",
    "        mode.append(t_model)\n",
    "        submodel.append(t_submodel)\n",
    "        generation.append(t_generation)\n",
    "    return get_unique_list(make),get_unique_list(mode),get_unique_list(submodel),get_unique_list(generation)\n",
    "make,model,submodel,generation = create_unique_multitask_list()"
   ]
  },
  {
   "cell_type": "code",
   "execution_count": 7,
   "metadata": {},
   "outputs": [
    {
     "name": "stdout",
     "output_type": "stream",
     "text": [
      "make: 45\n",
      "model: 338\n",
      "submodel: 11\n",
      "generation: 11\n"
     ]
    }
   ],
   "source": [
    "print(\"make:\",len(make))\n",
    "print(\"model:\",len(model))\n",
    "print(\"submodel:\",len(submodel))\n",
    "print(\"generation:\",len(generation))"
   ]
  },
  {
   "cell_type": "code",
   "execution_count": 8,
   "metadata": {},
   "outputs": [],
   "source": [
    "def separate_classes():\n",
    "    arr = []\n",
    "    for idx, annotation in enumerate(cars_annotations):\n",
    "        make,model,submodel,generation = annotation.split()\n",
    "        arr.append((idx, annotation,make, model, submodel, generation))\n",
    "    arr = pd.DataFrame(arr, columns=['target', 'full_annotation','make', 'model', 'submodel', 'generation'])\n",
    "    return arr\n",
    "v2_info = separate_classes()"
   ]
  },
  {
   "cell_type": "code",
   "execution_count": 9,
   "metadata": {},
   "outputs": [
    {
     "data": {
      "text/plain": [
       "0      35\n",
       "1      35\n",
       "2      35\n",
       "3      35\n",
       "4      35\n",
       "       ..\n",
       "688    14\n",
       "689    31\n",
       "690    41\n",
       "691     7\n",
       "692    28\n",
       "Length: 693, dtype: int8"
      ]
     },
     "execution_count": 9,
     "metadata": {},
     "output_type": "execute_result"
    }
   ],
   "source": [
    "make_codes = v2_info['make'].astype('category').cat.codes\n",
    "make_codes"
   ]
  },
  {
   "cell_type": "markdown",
   "metadata": {},
   "source": [
    "The hard split contains 107 fine-grained classes \n",
    "11 653 tracks (51 691 images) for training and 11 125 tracks (39 149 images)\n",
    "for testing"
   ]
  },
  {
   "cell_type": "code",
   "execution_count": 10,
   "metadata": {},
   "outputs": [],
   "source": [
    "import scipy.io\n",
    "def load_anno(path):\n",
    "    mat = scipy.io.loadmat(path)\n",
    "    return mat\n",
    "\n",
    "def load_class_names(path=\"/Users/martinodonnell/Documents/uni/fourth_year/4006/LowResImageRecognision/data/StanfordCars/devkit/cars_meta.mat\"):\n",
    "    cn = load_anno(path)['class_names']\n",
    "    cn = cn.tolist()[0]\n",
    "    cn = [str(c[0].item()) for c in cn]\n",
    "    return cn\n",
    "\n",
    "test = load_class_names()"
   ]
  },
  {
   "cell_type": "code",
   "execution_count": 11,
   "metadata": {
    "collapsed": true
   },
   "outputs": [
    {
     "data": {
      "text/plain": [
       "['AM General Hummer SUV 2000',\n",
       " 'Acura RL Sedan 2012',\n",
       " 'Acura TL Sedan 2012',\n",
       " 'Acura TL Type-S 2008',\n",
       " 'Acura TSX Sedan 2012',\n",
       " 'Acura Integra Type R 2001',\n",
       " 'Acura ZDX Hatchback 2012',\n",
       " 'Aston Martin V8 Vantage Convertible 2012',\n",
       " 'Aston Martin V8 Vantage Coupe 2012',\n",
       " 'Aston Martin Virage Convertible 2012',\n",
       " 'Aston Martin Virage Coupe 2012',\n",
       " 'Audi RS 4 Convertible 2008',\n",
       " 'Audi A5 Coupe 2012',\n",
       " 'Audi TTS Coupe 2012',\n",
       " 'Audi R8 Coupe 2012',\n",
       " 'Audi V8 Sedan 1994',\n",
       " 'Audi 100 Sedan 1994',\n",
       " 'Audi 100 Wagon 1994',\n",
       " 'Audi TT Hatchback 2011',\n",
       " 'Audi S6 Sedan 2011',\n",
       " 'Audi S5 Convertible 2012',\n",
       " 'Audi S5 Coupe 2012',\n",
       " 'Audi S4 Sedan 2012',\n",
       " 'Audi S4 Sedan 2007',\n",
       " 'Audi TT RS Coupe 2012',\n",
       " 'BMW ActiveHybrid 5 Sedan 2012',\n",
       " 'BMW 1 Series Convertible 2012',\n",
       " 'BMW 1 Series Coupe 2012',\n",
       " 'BMW 3 Series Sedan 2012',\n",
       " 'BMW 3 Series Wagon 2012',\n",
       " 'BMW 6 Series Convertible 2007',\n",
       " 'BMW X5 SUV 2007',\n",
       " 'BMW X6 SUV 2012',\n",
       " 'BMW M3 Coupe 2012',\n",
       " 'BMW M5 Sedan 2010',\n",
       " 'BMW M6 Convertible 2010',\n",
       " 'BMW X3 SUV 2012',\n",
       " 'BMW Z4 Convertible 2012',\n",
       " 'Bentley Continental Supersports Conv. Convertible 2012',\n",
       " 'Bentley Arnage Sedan 2009',\n",
       " 'Bentley Mulsanne Sedan 2011',\n",
       " 'Bentley Continental GT Coupe 2012',\n",
       " 'Bentley Continental GT Coupe 2007',\n",
       " 'Bentley Continental Flying Spur Sedan 2007',\n",
       " 'Bugatti Veyron 16.4 Convertible 2009',\n",
       " 'Bugatti Veyron 16.4 Coupe 2009',\n",
       " 'Buick Regal GS 2012',\n",
       " 'Buick Rainier SUV 2007',\n",
       " 'Buick Verano Sedan 2012',\n",
       " 'Buick Enclave SUV 2012',\n",
       " 'Cadillac CTS-V Sedan 2012',\n",
       " 'Cadillac SRX SUV 2012',\n",
       " 'Cadillac Escalade EXT Crew Cab 2007',\n",
       " 'Chevrolet Silverado 1500 Hybrid Crew Cab 2012',\n",
       " 'Chevrolet Corvette Convertible 2012',\n",
       " 'Chevrolet Corvette ZR1 2012',\n",
       " 'Chevrolet Corvette Ron Fellows Edition Z06 2007',\n",
       " 'Chevrolet Traverse SUV 2012',\n",
       " 'Chevrolet Camaro Convertible 2012',\n",
       " 'Chevrolet HHR SS 2010',\n",
       " 'Chevrolet Impala Sedan 2007',\n",
       " 'Chevrolet Tahoe Hybrid SUV 2012',\n",
       " 'Chevrolet Sonic Sedan 2012',\n",
       " 'Chevrolet Express Cargo Van 2007',\n",
       " 'Chevrolet Avalanche Crew Cab 2012',\n",
       " 'Chevrolet Cobalt SS 2010',\n",
       " 'Chevrolet Malibu Hybrid Sedan 2010',\n",
       " 'Chevrolet TrailBlazer SS 2009',\n",
       " 'Chevrolet Silverado 2500HD Regular Cab 2012',\n",
       " 'Chevrolet Silverado 1500 Classic Extended Cab 2007',\n",
       " 'Chevrolet Express Van 2007',\n",
       " 'Chevrolet Monte Carlo Coupe 2007',\n",
       " 'Chevrolet Malibu Sedan 2007',\n",
       " 'Chevrolet Silverado 1500 Extended Cab 2012',\n",
       " 'Chevrolet Silverado 1500 Regular Cab 2012',\n",
       " 'Chrysler Aspen SUV 2009',\n",
       " 'Chrysler Sebring Convertible 2010',\n",
       " 'Chrysler Town and Country Minivan 2012',\n",
       " 'Chrysler 300 SRT-8 2010',\n",
       " 'Chrysler Crossfire Convertible 2008',\n",
       " 'Chrysler PT Cruiser Convertible 2008',\n",
       " 'Daewoo Nubira Wagon 2002',\n",
       " 'Dodge Caliber Wagon 2012',\n",
       " 'Dodge Caliber Wagon 2007',\n",
       " 'Dodge Caravan Minivan 1997',\n",
       " 'Dodge Ram Pickup 3500 Crew Cab 2010',\n",
       " 'Dodge Ram Pickup 3500 Quad Cab 2009',\n",
       " 'Dodge Sprinter Cargo Van 2009',\n",
       " 'Dodge Journey SUV 2012',\n",
       " 'Dodge Dakota Crew Cab 2010',\n",
       " 'Dodge Dakota Club Cab 2007',\n",
       " 'Dodge Magnum Wagon 2008',\n",
       " 'Dodge Challenger SRT8 2011',\n",
       " 'Dodge Durango SUV 2012',\n",
       " 'Dodge Durango SUV 2007',\n",
       " 'Dodge Charger Sedan 2012',\n",
       " 'Dodge Charger SRT-8 2009',\n",
       " 'Eagle Talon Hatchback 1998',\n",
       " 'FIAT 500 Abarth 2012',\n",
       " 'FIAT 500 Convertible 2012',\n",
       " 'Ferrari FF Coupe 2012',\n",
       " 'Ferrari California Convertible 2012',\n",
       " 'Ferrari 458 Italia Convertible 2012',\n",
       " 'Ferrari 458 Italia Coupe 2012',\n",
       " 'Fisker Karma Sedan 2012',\n",
       " 'Ford F-450 Super Duty Crew Cab 2012',\n",
       " 'Ford Mustang Convertible 2007',\n",
       " 'Ford Freestar Minivan 2007',\n",
       " 'Ford Expedition EL SUV 2009',\n",
       " 'Ford Edge SUV 2012',\n",
       " 'Ford Ranger SuperCab 2011',\n",
       " 'Ford GT Coupe 2006',\n",
       " 'Ford F-150 Regular Cab 2012',\n",
       " 'Ford F-150 Regular Cab 2007',\n",
       " 'Ford Focus Sedan 2007',\n",
       " 'Ford E-Series Wagon Van 2012',\n",
       " 'Ford Fiesta Sedan 2012',\n",
       " 'GMC Terrain SUV 2012',\n",
       " 'GMC Savana Van 2012',\n",
       " 'GMC Yukon Hybrid SUV 2012',\n",
       " 'GMC Acadia SUV 2012',\n",
       " 'GMC Canyon Extended Cab 2012',\n",
       " 'Geo Metro Convertible 1993',\n",
       " 'HUMMER H3T Crew Cab 2010',\n",
       " 'HUMMER H2 SUT Crew Cab 2009',\n",
       " 'Honda Odyssey Minivan 2012',\n",
       " 'Honda Odyssey Minivan 2007',\n",
       " 'Honda Accord Coupe 2012',\n",
       " 'Honda Accord Sedan 2012',\n",
       " 'Hyundai Veloster Hatchback 2012',\n",
       " 'Hyundai Santa Fe SUV 2012',\n",
       " 'Hyundai Tucson SUV 2012',\n",
       " 'Hyundai Veracruz SUV 2012',\n",
       " 'Hyundai Sonata Hybrid Sedan 2012',\n",
       " 'Hyundai Elantra Sedan 2007',\n",
       " 'Hyundai Accent Sedan 2012',\n",
       " 'Hyundai Genesis Sedan 2012',\n",
       " 'Hyundai Sonata Sedan 2012',\n",
       " 'Hyundai Elantra Touring Hatchback 2012',\n",
       " 'Hyundai Azera Sedan 2012',\n",
       " 'Infiniti G Coupe IPL 2012',\n",
       " 'Infiniti QX56 SUV 2011',\n",
       " 'Isuzu Ascender SUV 2008',\n",
       " 'Jaguar XK XKR 2012',\n",
       " 'Jeep Patriot SUV 2012',\n",
       " 'Jeep Wrangler SUV 2012',\n",
       " 'Jeep Liberty SUV 2012',\n",
       " 'Jeep Grand Cherokee SUV 2012',\n",
       " 'Jeep Compass SUV 2012',\n",
       " 'Lamborghini Reventon Coupe 2008',\n",
       " 'Lamborghini Aventador Coupe 2012',\n",
       " 'Lamborghini Gallardo LP 570-4 Superleggera 2012',\n",
       " 'Lamborghini Diablo Coupe 2001',\n",
       " 'Land Rover Range Rover SUV 2012',\n",
       " 'Land Rover LR2 SUV 2012',\n",
       " 'Lincoln Town Car Sedan 2011',\n",
       " 'MINI Cooper Roadster Convertible 2012',\n",
       " 'Maybach Landaulet Convertible 2012',\n",
       " 'Mazda Tribute SUV 2011',\n",
       " 'McLaren MP4-12C Coupe 2012',\n",
       " 'Mercedes-Benz 300-Class Convertible 1993',\n",
       " 'Mercedes-Benz C-Class Sedan 2012',\n",
       " 'Mercedes-Benz SL-Class Coupe 2009',\n",
       " 'Mercedes-Benz E-Class Sedan 2012',\n",
       " 'Mercedes-Benz S-Class Sedan 2012',\n",
       " 'Mercedes-Benz Sprinter Van 2012',\n",
       " 'Mitsubishi Lancer Sedan 2012',\n",
       " 'Nissan Leaf Hatchback 2012',\n",
       " 'Nissan NV Passenger Van 2012',\n",
       " 'Nissan Juke Hatchback 2012',\n",
       " 'Nissan 240SX Coupe 1998',\n",
       " 'Plymouth Neon Coupe 1999',\n",
       " 'Porsche Panamera Sedan 2012',\n",
       " 'Ram C/V Cargo Van Minivan 2012',\n",
       " 'Rolls-Royce Phantom Drophead Coupe Convertible 2012',\n",
       " 'Rolls-Royce Ghost Sedan 2012',\n",
       " 'Rolls-Royce Phantom Sedan 2012',\n",
       " 'Scion xD Hatchback 2012',\n",
       " 'Spyker C8 Convertible 2009',\n",
       " 'Spyker C8 Coupe 2009',\n",
       " 'Suzuki Aerio Sedan 2007',\n",
       " 'Suzuki Kizashi Sedan 2012',\n",
       " 'Suzuki SX4 Hatchback 2012',\n",
       " 'Suzuki SX4 Sedan 2012',\n",
       " 'Tesla Model S Sedan 2012',\n",
       " 'Toyota Sequoia SUV 2012',\n",
       " 'Toyota Camry Sedan 2012',\n",
       " 'Toyota Corolla Sedan 2012',\n",
       " 'Toyota 4Runner SUV 2012',\n",
       " 'Volkswagen Golf Hatchback 2012',\n",
       " 'Volkswagen Golf Hatchback 1991',\n",
       " 'Volkswagen Beetle Hatchback 2012',\n",
       " 'Volvo C30 Hatchback 2012',\n",
       " 'Volvo 240 Sedan 1993',\n",
       " 'Volvo XC90 SUV 2007',\n",
       " 'smart fortwo Convertible 2012']"
      ]
     },
     "execution_count": 11,
     "metadata": {},
     "output_type": "execute_result"
    }
   ],
   "source": [
    "test"
   ]
  },
  {
   "cell_type": "code",
   "execution_count": 12,
   "metadata": {},
   "outputs": [],
   "source": [
    "def load_annotations_v2(path, v2_info):\n",
    "    ann = load_anno(path)['annotations'][0]\n",
    "    ret = {}\n",
    "    make_codes = v2_info['make'].astype('category').cat.codes\n",
    "    type_codes = v2_info['model_type'].astype('category').cat.codes\n",
    "\n",
    "    for idx in range(len(ann)):\n",
    "        x1, y1, x2, y2, target, imgfn = ann[idx]\n",
    "\n",
    "        r = {\n",
    "            'x1': x1.item(),\n",
    "            'y1': y1.item(),\n",
    "            'x2': x2.item(),\n",
    "            'y2': y2.item(),\n",
    "            'target': target.item() - 1,\n",
    "            'make_target': make_codes[target.item() - 1].item(),\n",
    "            'type_target': type_codes[target.item() - 1].item(),\n",
    "            'filename': imgfn.item()\n",
    "        }\n",
    "\n",
    "        ret[idx] = r\n",
    "    return ret"
   ]
  },
  {
   "cell_type": "markdown",
   "metadata": {},
   "source": [
    "# Adding Augmentations to images"
   ]
  },
  {
   "cell_type": "code",
   "execution_count": 13,
   "metadata": {},
   "outputs": [],
   "source": [
    "# -*- coding: utf-8 -*-\n",
    "import cv2\n",
    "import numpy as np\n",
    "import random\n",
    "\n",
    "\n",
    "#%%\n",
    "def alter_HSV(img, change_probability = 0.6):\n",
    "    if random.random() < 1-change_probability:\n",
    "        return img\n",
    "    addToHue = random.randint(0,179)\n",
    "    addToSaturation = random.gauss(60, 20)\n",
    "    addToValue = random.randint(-50,50)\n",
    "    hsvVersion =  cv2.cvtColor(img, cv2.COLOR_RGB2HSV)\n",
    "    \n",
    "    channels = hsvVersion.transpose(2, 0, 1)\n",
    "    channels[0] = ((channels[0].astype(int) + addToHue)%180).astype(np.uint8)\n",
    "    channels[1] = (np.maximum(0, np.minimum(255, (channels[1].astype(int) + addToSaturation)))).astype(np.uint8)\n",
    "    channels[2] = (np.maximum(0, np.minimum(255, (channels[2].astype(int) + addToValue)))).astype(np.uint8)\n",
    "    hsvVersion = channels.transpose(1,2,0)   \n",
    "        \n",
    "    return cv2.cvtColor(hsvVersion, cv2.COLOR_HSV2RGB)\n",
    "\n",
    "#%%\n",
    "def image_drop(img, change_probability = 0.6):\n",
    "    if random.random() < 1-change_probability:\n",
    "        return img\n",
    "    width = random.randint(int(img.shape[1]*0.10), int(img.shape[1]*0.3))\n",
    "    height = random.randint(int(img.shape[0]*0.10), int(img.shape[0]*0.3))\n",
    "    x = random.randint(int(img.shape[1]*0.10), img.shape[1]-width-int(img.shape[1]*0.10))\n",
    "    y = random.randint(int(img.shape[0]*0.10), img.shape[0]-height-int(img.shape[0]*0.10))\n",
    "    img[y:y+height,x:x+width,:] = (np.random.rand(height,width,3)*255).astype(np.uint8)\n",
    "    return img\n",
    "\n",
    "#%%\n",
    "def add_bb_noise_flip(image, bb3d, flip, bb_noise):\n",
    "    bb3d = bb3d + bb_noise \n",
    "    if flip:\n",
    "        bb3d[:, 0] = image.shape[1] - bb3d[:,0]\n",
    "        image = cv2.flip(image, 1)\n",
    "    return image, bb3d\n",
    "\n",
    "#%%\n",
    "def _unpack_side(img, origPoints, targetSize):\n",
    "    origPoints = np.array(origPoints).reshape(-1,1,2)\n",
    "    targetPoints = np.array([(0,0), (targetSize[0],0), (0, targetSize[1]), \n",
    "                             (targetSize[0], targetSize[1])]).reshape(-1,1,2).astype(origPoints.dtype)\n",
    "    m, _ = cv2.findHomography(origPoints, targetPoints, 0)\n",
    "    resultImage = cv2.warpPerspective(img, m, targetSize)\n",
    "    return resultImage\n",
    "    \n",
    "    \n",
    "#%%    \n",
    "def unpack_3DBB(img, bb):\n",
    "    frontal = _unpack_side(img, [bb[0], bb[1], bb[4], bb[5]], (75,124))\n",
    "    side = _unpack_side(img, [bb[1], bb[2], bb[5], bb[6]], (149,124))\n",
    "    roof = _unpack_side(img, [bb[0], bb[3], bb[1], bb[2]], (149,100))\n",
    "    final = np.zeros((224,224,3), dtype=frontal.dtype)\n",
    "    final[100:, 0:75] = frontal\n",
    "    final[0:100, 75:] = roof\n",
    "    final[100:, 75:] = side\n",
    "    \n",
    "    return final"
   ]
  },
  {
   "cell_type": "code",
   "execution_count": 14,
   "metadata": {},
   "outputs": [],
   "source": [
    "def get_vehicle_instance_data(vehicle_id, instance_id, original_image_coordinates=False):\n",
    "    \"\"\"\n",
    "    original_image_coordinates: the 3DBB coordinates are in the original image space\n",
    "                                to convert them into cropped image space, it is necessary to subtract instance[\"3DBB_offset\"]\n",
    "                                which is done if this parameter is False. \n",
    "    \"\"\"\n",
    "    vehicle = dataset[\"samples\"][vehicle_id]\n",
    "    instance = vehicle[\"instances\"][instance_id]\n",
    "    bb3d = instance[\"3DBB\"]\n",
    "\n",
    "    return vehicle, instance, bb3d\n"
   ]
  },
  {
   "cell_type": "code",
   "execution_count": 15,
   "metadata": {},
   "outputs": [],
   "source": [
    "def get_image(vehicle_id, instance_id):\n",
    "    return cv2.cvtColor(cv2.imdecode(atlas[vehicle_id][instance_id], 1), cv2.COLOR_BGR2RGB)"
   ]
  },
  {
   "cell_type": "code",
   "execution_count": 16,
   "metadata": {},
   "outputs": [],
   "source": [
    "path = '/Users/martinodonnell/Documents/uni/fourth_year/4006/LowResImageRecognision/data/BoxCars/images/'"
   ]
  },
  {
   "cell_type": "code",
   "execution_count": 155,
   "metadata": {},
   "outputs": [
    {
     "data": {
      "image/png": "[encoded data removed]",
      "text/plain": [
       "<Figure size 432x288 with 1 Axes>"
      ]
     },
     "metadata": {
      "needs_background": "light"
     },
     "output_type": "display_data"
    }
   ],
   "source": [
    "vehicle_id, instance_id,bb3d = get_vehicle_instance_data(0,0)\n",
    "image = get_image(0,0)\n",
    "# image = Image.open(path + instance_id['path'])\n",
    "#Convert from pil to cv\n",
    "# image = np.array(image)\n",
    "\n",
    "# image = alter_HSV(image,1) # randomly alternate color\n",
    "# image = image_drop(image,1) # randomly remove part of the image\n",
    "# bb_noise = np.clip(np.random.randn(2) * 1.5, -5, 5) # generate random bounding box movement\n",
    "# flip = bool(random.getrandbits(1)) # random flip\n",
    "# image, bb3d = add_bb_noise_flip(image, bb3d, flip, bb_noise) \n",
    "\n",
    "# image = unpack_3DBB(image, bb3d) \n",
    "# image = (image.astype(np.float32) - 116)/128.\n",
    "\n",
    "# plt.plot(image)\n",
    "# plt.show()\n",
    "# len(image)\n",
    "plt.imshow(image)\n",
    "plt.show()"
   ]
  },
  {
   "cell_type": "markdown",
   "metadata": {},
   "source": [
    "# Checking single sample from each boxcar class"
   ]
  },
  {
   "cell_type": "code",
   "execution_count": 18,
   "metadata": {},
   "outputs": [],
   "source": [
    "filepaths = ['uvoz/0/000000_000.png',\n",
    "'uvoz/1/000001_000.png',\n",
    "'uvoz/2/000002_000.png',\n",
    "'uvoz/5/000005_000.png',\n",
    "'uvoz/6/000006_000.png',\n",
    "'uvoz/7/000007_000.png',\n",
    "'uvoz/8/000008_000.png',\n",
    "'uvoz/12/000012_000.png',\n",
    "'uvoz/15/000015_000.png',\n",
    "'uvoz/26/000026_000.png',\n",
    "'uvoz/30/000030_000.png',\n",
    "'uvoz/33/000033_000.png',\n",
    "'uvoz/37/000037_000.png',\n",
    "'uvoz/43/000043_000.png',\n",
    "'uvoz/47/000047_000.png',\n",
    "'uvoz/49/000049_000.png',\n",
    "'uvoz/43/000093_000.png',\n",
    "'videnska/13/000213_000.png',\n",
    "'videnska/25/000225_000.png',\n",
    "'videnska/24/000324_000.png',\n",
    "'videnska/1/000351_000.png',\n",
    "'prahaVinohradska/30/000430_000.png',\n",
    "'prahaVinohradska/31/000431_000.png',\n",
    "'prahaVinohradska/32/000432_000.png',\n",
    "'prahaVinohradska/33/000433_000.png',\n",
    "'prahaVinohradska/36/000436_000.png',\n",
    "'prahaVinohradska/44/000444_000.png',\n",
    "'prahaVinohradska/49/000449_000.png',\n",
    "'prahaVinohradska/7/000457_000.png',\n",
    "'prahaVinohradska/8/000458_000.png',\n",
    "'prahaVinohradska/15/000465_000.png',\n",
    "'prahaVinohradska/16/000466_000.png',\n",
    "'prahaVinohradska/19/000469_000.png',\n",
    "'prahaVinohradska/26/000476_000.png',\n",
    "'prahaVinohradska/33/000483_000.png',\n",
    "'prahaVinohradska/46/000496_000.png',\n",
    "'prahaVinohradska/47/000497_000.png',\n",
    "'prahaVinohradska/13/000513_000.png',\n",
    "'prahaVinohradska/16/000516_000.png',\n",
    "'prahaVinohradska/19/000519_000.png',\n",
    "'prahaVinohradska/43/000543_000.png',\n",
    "'prahaVinohradska/6/000556_000.png',\n",
    "'prahaVinohradska/9/000559_000.png',\n",
    "'prahaVinohradska/33/000583_000.png',\n",
    "'prahaVinohradska/47/000597_000.png',\n",
    "'prahaVinohradska/3/000603_000.png',\n",
    "'prahaVinohradska/5/000605_000.png',\n",
    "'prahaVinohradska/24/000624_000.png',\n",
    "'prahaVinohradska/7/000707_000.png',\n",
    "'prahaVinohradska/45/000795_000.png',\n",
    "'prahaVinohradska/43/000843_000.png',\n",
    "'prahaVinohradska/23/000873_000.png',\n",
    "'prahaVinohradska/27/000977_000.png',\n",
    "'prahaVinohradska/33/001033_000.png',\n",
    "'prahaVinohradska/21/001121_000.png',\n",
    "'prahaVinohradska/19/001219_000.png',\n",
    "'prahaVinohradska/16/001616_000.png',\n",
    "'prahaVinohradska/12/001812_000.png',\n",
    "'prahaVinohradska/43/002093_000.png',\n",
    "'prahaVinohradska/28/002178_000.png',\n",
    "'prahaVinohradska/48/002548_000.png',\n",
    "'prahaVinohradska/22/002822_000.png',\n",
    "'prahaVinohradska/8/002958_000.png',\n",
    "'prahaVinohradska/10/003110_000.png',\n",
    "'videnska/31/004281_000.png',\n",
    "'videnska/15/004315_000.png',\n",
    "'fit/3/005053_000.png',\n",
    "'fit/6/005056_000.png',\n",
    "'fit/15/005065_000.png',\n",
    "'fit/16/005066_000.png',\n",
    "'fit/36/005086_000.png',\n",
    "'fit/37/005087_000.png',\n",
    "'fit/5/005105_000.png',\n",
    "'fit/25/005125_000.png',\n",
    "'fit/47/005147_000.png',\n",
    "'fit/20/005270_000.png',\n",
    "'fit/4/005354_000.png',\n",
    "'fit/1/005451_000.png',\n",
    "'fit/40/005540_000.png',\n",
    "'fit/3/005553_000.png',\n",
    "'fit/27/005677_000.png',\n",
    "'fit/37/007337_000.png',\n",
    "'fit/41/009141_000.png',\n",
    "'fit/18/009768_000.png',\n",
    "'001/28/019678_000.png',\n",
    "'001/38/019688_000.png',\n",
    "'001/42/019692_000.png',\n",
    "'001/13/019713_000.png',\n",
    "'001/17/019717_000.png',\n",
    "'001/2/019752_000.png',\n",
    "'001/3/019753_000.png',\n",
    "'001/25/019775_000.png',\n",
    "'001/28/019778_000.png',\n",
    "'001/30/019780_000.png',\n",
    "'001/11/019811_000.png',\n",
    "'001/49/019849_000.png',\n",
    "'001/14/019864_000.png',\n",
    "'002/41/019991_000.png',\n",
    "'002/5/020005_000.png',\n",
    "'002/17/020167_000.png',\n",
    "'002/46/020196_000.png',\n",
    "'002/33/020283_000.png',\n",
    "'003/49/020449_000.png',\n",
    "'003/38/020638_000.png',\n",
    "'007/25/021375_000.png',\n",
    "'009/25/021775_000.png',\n",
    "'013/33/022233_000.png']"
   ]
  },
  {
   "cell_type": "code",
   "execution_count": 19,
   "metadata": {},
   "outputs": [
    {
     "data": {
      "text/plain": [
       "'videnska/25/000225_000.png'"
      ]
     },
     "execution_count": 19,
     "metadata": {},
     "output_type": "execute_result"
    }
   ],
   "source": [
    "filepaths[18]"
   ]
  },
  {
   "cell_type": "code",
   "execution_count": 20,
   "metadata": {},
   "outputs": [],
   "source": [
    "count = 54"
   ]
  },
  {
   "cell_type": "code",
   "execution_count": 21,
   "metadata": {},
   "outputs": [
    {
     "name": "stdout",
     "output_type": "stream",
     "text": [
      "54\n"
     ]
    }
   ],
   "source": [
    "print(count)"
   ]
  },
  {
   "cell_type": "code",
   "execution_count": 22,
   "metadata": {},
   "outputs": [
    {
     "data": {
      "text/plain": [
       "'prahaVinohradska/21/001121_000.png'"
      ]
     },
     "execution_count": 22,
     "metadata": {},
     "output_type": "execute_result"
    }
   ],
   "source": [
    "filepaths[count]"
   ]
  },
  {
   "cell_type": "code",
   "execution_count": 23,
   "metadata": {},
   "outputs": [
    {
     "ename": "FileNotFoundError",
     "evalue": "[Errno 2] No such file or directory: '/Users/martinodonnell/Documents/uni/fourth_year/4006/LowResImageRecognision/data/BoxCars/images/001/17/019717_000'",
     "output_type": "error",
     "traceback": [
      "\u001b[0;31m---------------------------------------------------------------------------\u001b[0m",
      "\u001b[0;31mFileNotFoundError\u001b[0m                         Traceback (most recent call last)",
      "\u001b[0;32m<ipython-input-23-ed523d649279>\u001b[0m in \u001b[0;36m<module>\u001b[0;34m\u001b[0m\n\u001b[1;32m      1\u001b[0m \u001b[0;31m# count+=1\u001b[0m\u001b[0;34m\u001b[0m\u001b[0;34m\u001b[0m\u001b[0;34m\u001b[0m\u001b[0m\n\u001b[0;32m----> 2\u001b[0;31m \u001b[0mImage\u001b[0m\u001b[0;34m.\u001b[0m\u001b[0mopen\u001b[0m\u001b[0;34m(\u001b[0m\u001b[0mpath\u001b[0m \u001b[0;34m+\u001b[0m\u001b[0;34m\"001/17/019717_000\"\u001b[0m\u001b[0;34m)\u001b[0m\u001b[0;34m\u001b[0m\u001b[0;34m\u001b[0m\u001b[0m\n\u001b[0m",
      "\u001b[0;32m/usr/local/lib/python3.7/site-packages/PIL/Image.py\u001b[0m in \u001b[0;36mopen\u001b[0;34m(fp, mode)\u001b[0m\n\u001b[1;32m   2764\u001b[0m \u001b[0;34m\u001b[0m\u001b[0m\n\u001b[1;32m   2765\u001b[0m     \u001b[0;32mif\u001b[0m \u001b[0mfilename\u001b[0m\u001b[0;34m:\u001b[0m\u001b[0;34m\u001b[0m\u001b[0;34m\u001b[0m\u001b[0m\n\u001b[0;32m-> 2766\u001b[0;31m         \u001b[0mfp\u001b[0m \u001b[0;34m=\u001b[0m \u001b[0mbuiltins\u001b[0m\u001b[0;34m.\u001b[0m\u001b[0mopen\u001b[0m\u001b[0;34m(\u001b[0m\u001b[0mfilename\u001b[0m\u001b[0;34m,\u001b[0m \u001b[0;34m\"rb\"\u001b[0m\u001b[0;34m)\u001b[0m\u001b[0;34m\u001b[0m\u001b[0;34m\u001b[0m\u001b[0m\n\u001b[0m\u001b[1;32m   2767\u001b[0m         \u001b[0mexclusive_fp\u001b[0m \u001b[0;34m=\u001b[0m \u001b[0;32mTrue\u001b[0m\u001b[0;34m\u001b[0m\u001b[0;34m\u001b[0m\u001b[0m\n\u001b[1;32m   2768\u001b[0m \u001b[0;34m\u001b[0m\u001b[0m\n",
      "\u001b[0;31mFileNotFoundError\u001b[0m: [Errno 2] No such file or directory: '/Users/martinodonnell/Documents/uni/fourth_year/4006/LowResImageRecognision/data/BoxCars/images/001/17/019717_000'"
     ]
    }
   ],
   "source": [
    "# count+=1\n",
    "Image.open(path +\"001/17/019717_000\")\n"
   ]
  },
  {
   "cell_type": "code",
   "execution_count": null,
   "metadata": {},
   "outputs": [],
   "source": [
    "# How many samples for each car"
   ]
  },
  {
   "cell_type": "code",
   "execution_count": null,
   "metadata": {},
   "outputs": [],
   "source": [
    "boxcar_counts = {'skoda fabia combi mk1': 4056, 'skoda fabia hatchback mk2': 1383, 'skoda octavia combi mk2': 4298, 'skoda fabia combi mk2': 3087, 'skoda octavia sedan mk3': 1159, 'skoda octavia combi mk3': 794, 'skoda octavia combi mk1': 2751, 'volkswagen passat combi mk6': 341, 'skoda fabia hatchback mk1': 2947, 'skoda superb sedan mk2': 198, 'skoda rapid sedan mk1': 273, 'skoda octavia sedan mk1': 2738, 'skoda octavia sedan mk2': 2185, 'skoda superb combi mk2': 239, 'volkswagen passat combi mk7': 88, 'volkswagen golf hatchback mk6': 178, 'volkswagen passat sedan mk6': 227, 'volkswagen passat sedan mk5': 89, 'skoda superb sedan mk1': 187, 'volkswagen passat combi mk5': 668, 'skoda fabia sedan mk1': 189, 'skoda yeti suv mk1': 592, 'volkswagen caddy van mk3': 538, 'skoda citigo hatchback mk1': 1157, 'ford focus combi mk1': 807, 'peugeot 206 hatchback mk1': 569, 'skoda felicia combi mk2': 265, 'skoda felicia hatchback mk1': 925, 'fiat panda hatchback mk2': 336, 'citroen berlingo van mk2': 495, 'bmw x5 suv mk2': 121, 'audi a6 combi mk4': 101, 'hyundai i20 hatchback mk1': 290, 'bmw x3 suv mk2': 133, 'porsche cayenne suv mk2': 60, 'citroen berlingo van mk1': 597, 'ford fiesta hatchback mk6': 145, 'skoda felicia hatchback mk2': 958, 'peugeot partner van mk2': 218, 'skoda favorit hatchback mk1': 195, 'audi a6 sedan mk4': 294, 'toyota auris combi mk2': 121, 'toyota yaris hatchback mk3': 228, 'hyundai ix20 mpv mk1': 420, 'renault megane combi mk3': 381, 'opel corsa hatchback mk4': 164, 'ford mondeo combi mk3': 242, 'seat alhambra mpv mk1': 69, 'skoda felicia combi mk1': 117, 'bmw 1 hatchback mk1': 75, 'ford focus combi mk3': 140, 'volkswagen golf combi mk4': 105, 'volkswagen touareg suv mk2': 171, 'volkswagen sharan mpv mk1': 401, 'kia ceed combi mk1': 417, 'fiat punto hatchback mk1': 190, 'audi q7 suv mk1': 135, 'renault kangoo van mk1': 141, 'volkswagen golf hatchback mk4': 523, 'volkswagen tiguan suv mk1': 86, 'hyundai i30 hatchback mk1': 133, 'ford focus combi mk2': 312, 'opel corsa hatchback mk3': 175, 'hyundai i30 combi mk2': 381, 'skoda roomster van mk1': 1206, 'peugeot 107 hatchback mk1': 223, 'opel astra combi mk2': 171, 'renault megane combi mk2': 251, 'citroen c1 hatchback mk1': 293, 'hyundai i30 hatchback mk2': 211, 'renault clio hatchback mk2': 315, 'renault trafic van mk2': 388, 'ford s-max mpv mk1': 223, 'seat cordoba sedan mk2': 112, 'seat leon hatchback mk2': 109, 'ford fusion mpv mk1': 550, 'renault laguna combi mk2': 94, 'volkswagen touran mpv mk1': 254, 'ford focus hatchback mk1': 329, 'fiat punto hatchback mk2': 141, 'peugeot 207 hatchback mk1': 76, 'renault megane hatchback mk3': 124, 'ford focus hatchback mk2': 194, 'renault thalia sedan mk1': 145, 'hyundai getz hatchback mk1': 125, 'renault scenic mpv mk1': 121, 'volvo xc90 suv mk1': 122, 'opel vivaro van mk2': 134, 'ford transit van mk6': 438, 'peugeot partner van mk1': 175, 'volkswagen transporter van mk5': 417, 'kia sportage suv mk3': 143, 'renault master van mk2': 153, 'citroen c3 hatchback mk1': 187, 'volvo xc60 suv mk1': 114, 'volkswagen transporter van mk4': 383, 'ford mondeo combi mk4': 157, 'peugeot 308 combi mk1': 81, 'renault kangoo van mk2': 145, 'peugeot boxer van mk3': 117, 'peugeot 307 combi mk1': 161, 'ford transit van mk7': 265, 'fiat ducato van mk3': 192, 'hyundai ix35 suv mk1': 178, 'fiat doblo van mk1': 163, 'skoda fabia hatchback mk3': 139, 'renault master van mk3': 174}\n"
   ]
  },
  {
   "cell_type": "code",
   "execution_count": null,
   "metadata": {},
   "outputs": [],
   "source": []
  },
  {
   "cell_type": "code",
   "execution_count": null,
   "metadata": {},
   "outputs": [],
   "source": [
    "{k: v for k, v in sorted(boxcar_counts.items(), key=lambda item: item[1])}"
   ]
  }
 ],
 "metadata": {
  "kernelspec": {
   "display_name": "Python 3",
   "language": "python",
   "name": "python3"
  },
  "language_info": {
   "codemirror_mode": {
    "name": "ipython",
    "version": 3
   },
   "file_extension": ".py",
   "mimetype": "text/x-python",
   "name": "python",
   "nbconvert_exporter": "python",
   "pygments_lexer": "ipython3",
   "version": "3.7.3"
  }
 },
 "nbformat": 4,
 "nbformat_minor": 2
}

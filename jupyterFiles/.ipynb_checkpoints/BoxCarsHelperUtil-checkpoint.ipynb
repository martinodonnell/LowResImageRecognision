{
 "cells": [
  {
   "cell_type": "code",
   "execution_count": 1,
   "metadata": {},
   "outputs": [],
   "source": [
    "import os\n",
    "import scipy.io\n",
    "from torchvision import transforms\n",
    "from torch.utils.data import Dataset, DataLoader\n",
    "from PIL import Image\n",
    "import pickle\n",
    "import numpy as np\n",
    "import pandas as pd\n",
    "import cv2\n",
    "import matplotlib.pyplot as plt\n"
   ]
  },
  {
   "cell_type": "code",
   "execution_count": 2,
   "metadata": {},
   "outputs": [],
   "source": [
    "def load_cache(path, encoding=\"latin-1\", fix_imports=True):\n",
    "        \"\"\"\n",
    "        encoding latin-1 is default for Python2 compatibility\n",
    "        \"\"\"\n",
    "        with open(path, \"rb\") as f:\n",
    "            return pickle.load(f, encoding=encoding, fix_imports=True)\n",
    "        \n",
    "def create_unique_ann_list():\n",
    "        \n",
    "        for data in dataset['samples']:\n",
    "            new_ann = data['annotation']\n",
    "            if new_ann not in cars_annotations:\n",
    "                cars_annotations.append(new_ann)\n",
    "\n",
    "def convert_ann_to_num(ann):\n",
    "    if ann not in cars_annotations:\n",
    "        cars_annotations.append(ann)\n",
    "    return cars_annotations.index(ann)"
   ]
  },
  {
   "cell_type": "code",
   "execution_count": 3,
   "metadata": {},
   "outputs": [
    {
     "ename": "NameError",
     "evalue": "name 'atlas' is not defined",
     "output_type": "error",
     "traceback": [
      "\u001b[0;31m---------------------------------------------------------------------------\u001b[0m",
      "\u001b[0;31mNameError\u001b[0m                                 Traceback (most recent call last)",
      "\u001b[0;32m<ipython-input-3-ee7635d2db6e>\u001b[0m in \u001b[0;36m<module>\u001b[0;34m\u001b[0m\n\u001b[1;32m      1\u001b[0m \u001b[0;31m# Show what atlas can do\u001b[0m\u001b[0;34m\u001b[0m\u001b[0;34m\u001b[0m\u001b[0;34m\u001b[0m\u001b[0m\n\u001b[0;32m----> 2\u001b[0;31m \u001b[0mimage\u001b[0m \u001b[0;34m=\u001b[0m \u001b[0mcv2\u001b[0m\u001b[0;34m.\u001b[0m\u001b[0mcvtColor\u001b[0m\u001b[0;34m(\u001b[0m\u001b[0mcv2\u001b[0m\u001b[0;34m.\u001b[0m\u001b[0mimdecode\u001b[0m\u001b[0;34m(\u001b[0m\u001b[0matlas\u001b[0m\u001b[0;34m[\u001b[0m\u001b[0;36m3117\u001b[0m\u001b[0;34m]\u001b[0m\u001b[0;34m[\u001b[0m\u001b[0;36m0\u001b[0m\u001b[0;34m]\u001b[0m\u001b[0;34m,\u001b[0m \u001b[0;36m1\u001b[0m\u001b[0;34m)\u001b[0m\u001b[0;34m,\u001b[0m \u001b[0mcv2\u001b[0m\u001b[0;34m.\u001b[0m\u001b[0mCOLOR_BGR2RGB\u001b[0m\u001b[0;34m)\u001b[0m\u001b[0;34m\u001b[0m\u001b[0;34m\u001b[0m\u001b[0m\n\u001b[0m\u001b[1;32m      3\u001b[0m \u001b[0mplt\u001b[0m\u001b[0;34m.\u001b[0m\u001b[0mimshow\u001b[0m\u001b[0;34m(\u001b[0m\u001b[0mimage\u001b[0m\u001b[0;34m)\u001b[0m\u001b[0;34m\u001b[0m\u001b[0;34m\u001b[0m\u001b[0m\n",
      "\u001b[0;31mNameError\u001b[0m: name 'atlas' is not defined"
     ]
    }
   ],
   "source": [
    "# Show what atlas can do\n",
    "image = cv2.cvtColor(cv2.imdecode(atlas[3117][0], 1), cv2.COLOR_BGR2RGB)\n",
    "plt.imshow(image)"
   ]
  },
  {
   "cell_type": "code",
   "execution_count": 5,
   "metadata": {},
   "outputs": [
    {
     "name": "stdout",
     "output_type": "stream",
     "text": [
      "Number of annotations 693\n"
     ]
    }
   ],
   "source": [
    "cars_annotations = []\n",
    "split = load_cache('../data/BoxCars/classification_splits.pkl')['hard']\n",
    "dataset = load_cache('../data/BoxCars/dataset.pkl')\n",
    "atlas = load_cache('../data/BoxCars/atlas.pkl')\n",
    "\n",
    "create_unique_ann_list()\n",
    "print('Number of annotations ' + str(len(cars_annotations)))"
   ]
  },
  {
   "cell_type": "markdown",
   "metadata": {},
   "source": [
    "The hard split contains 107 fine-grained classes \n",
    "11 653 tracks (51 691 images) for training and 11 125 tracks (39 149 images)\n",
    "for testing"
   ]
  },
  {
   "cell_type": "code",
   "execution_count": 10,
   "metadata": {},
   "outputs": [
    {
     "data": {
      "text/plain": [
       "637"
      ]
     },
     "execution_count": 10,
     "metadata": {},
     "output_type": "execute_result"
    }
   ],
   "source": [
    "len(split['validation'])"
   ]
  },
  {
   "cell_type": "code",
   "execution_count": 6,
   "metadata": {},
   "outputs": [
    {
     "name": "stdout",
     "output_type": "stream",
     "text": [
      "(0, 10):0:10\n",
      "(1, 30):1:30\n",
      "(2, 77):2:77\n",
      "(3, 10):3:10\n",
      "(4, 10):4:10\n"
     ]
    }
   ],
   "source": [
    "for data in split['train'][0:5]:\n",
    "    print(str(data) +\":\"  + str(data[0]) + \":\"+ str(data[1]))\n",
    "#     print(dataset['samples'][data[0]][data[1]])\n",
    "#     new_ann = data['annotation']\n",
    "#     if new_ann not in cars_annotations:\n",
    "#         cars_annotations.append(new_ann)"
   ]
  }
 ],
 "metadata": {
  "kernelspec": {
   "display_name": "Python 3",
   "language": "python",
   "name": "python3"
  },
  "language_info": {
   "codemirror_mode": {
    "name": "ipython",
    "version": 3
   },
   "file_extension": ".py",
   "mimetype": "text/x-python",
   "name": "python",
   "nbconvert_exporter": "python",
   "pygments_lexer": "ipython3",
   "version": "3.7.3"
  }
 },
 "nbformat": 4,
 "nbformat_minor": 2
}

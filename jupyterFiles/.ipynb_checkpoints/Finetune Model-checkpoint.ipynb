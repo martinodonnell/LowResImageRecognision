{
 "cells": [
  {
   "cell_type": "code",
   "execution_count": 6,
   "metadata": {},
   "outputs": [],
   "source": [
    "import os\n",
    "import pandas as pd\n",
    "import pprint as pp\n",
    "import argparse\n",
    "import torch\n",
    "import torch.nn as nn\n",
    "import torchvision\n"
   ]
  },
  {
   "cell_type": "code",
   "execution_count": 4,
   "metadata": {},
   "outputs": [],
   "source": [
    "class StanfordBase(nn.Module):\n",
    "    def __init__(self, base, num_classes):\n",
    "        super().__init__()\n",
    "\n",
    "        self.base = base\n",
    "\n",
    "        in_features = self.base.classifier[6].in_features\n",
    "\n",
    "        self.base.classifier[6] = nn.Sequential(\n",
    "            nn.Dropout(0.5),\n",
    "            nn.Linear(in_features, num_classes),\n",
    "\n",
    "        )\n",
    "\n",
    "\n",
    "    def forward(self, x):\n",
    "        fc = self.base(x)\n",
    "        return fc"
   ]
  },
  {
   "cell_type": "code",
   "execution_count": 18,
   "metadata": {},
   "outputs": [],
   "source": [
    "def load_weight_stan_boxcars(model, path, device):\n",
    "    pretrained_dict = torch.load(path, map_location=device)\n",
    "    pretrained_dict_ids = [0, 2, 5, 7, 10, 12, 14, 17, 19, 21, 24, 26, 28]\n",
    "    # Add features\n",
    "    for i in pretrained_dict_ids:\n",
    "        key = 'base.features.' + str(i)\n",
    "        model.state_dict()[key + '.weight'].data.copy_(pretrained_dict[key + '.weight'])\n",
    "        model.state_dict()[key + '.bias'].data.copy_(pretrained_dict[key + '.bias'])\n",
    "\n",
    "    # #Add classifiers\n",
    "    # pretrained_dict_ids = [0,3,5.1,6.1]\n",
    "\n",
    "    # for i in pretrained_dict_ids:\n",
    "    #     model.state_dict()[key+'.weight'].data.copy_(pretrained_dict[key+'.weight'])\n",
    "    #     model.state_dict()[key+'.bias'].data.copy_(pretrained_dict[key+'.weight'])"
   ]
  },
  {
   "cell_type": "code",
   "execution_count": 15,
   "metadata": {},
   "outputs": [],
   "source": [
    "device = torch.device('cuda' if torch.cuda.is_available() else 'cpu')"
   ]
  },
  {
   "cell_type": "code",
   "execution_count": 7,
   "metadata": {},
   "outputs": [],
   "source": [
    "base = torchvision.models.vgg16(pretrained=True, progress=True) "
   ]
  },
  {
   "cell_type": "code",
   "execution_count": 9,
   "metadata": {},
   "outputs": [],
   "source": [
    "model = StanfordBase(base,2828)"
   ]
  },
  {
   "cell_type": "code",
   "execution_count": 19,
   "metadata": {},
   "outputs": [],
   "source": [
    "load_weight_stan_boxcars2(model,\"../saves/304_model.pth\",device)"
   ]
  }
 ],
 "metadata": {
  "kernelspec": {
   "display_name": "Python 3",
   "language": "python",
   "name": "python3"
  },
  "language_info": {
   "codemirror_mode": {
    "name": "ipython",
    "version": 3
   },
   "file_extension": ".py",
   "mimetype": "text/x-python",
   "name": "python",
   "nbconvert_exporter": "python",
   "pygments_lexer": "ipython3",
   "version": "3.7.3"
  }
 },
 "nbformat": 4,
 "nbformat_minor": 2
}

{
 "cells": [
  {
   "cell_type": "code",
   "execution_count": 1,
   "metadata": {},
   "outputs": [],
   "source": [
    "import argparse\n",
    "import os\n",
    "import pprint as pp\n",
    "import time\n",
    "\n",
    "import torch.optim as optim\n",
    "import torch.nn.functional as F\n",
    "import torch.nn as nn\n",
    "import torch\n",
    "import pandas as pd\n",
    "import time"
   ]
  },
  {
   "cell_type": "code",
   "execution_count": 36,
   "metadata": {},
   "outputs": [],
   "source": [
    "pred = torch.tensor([-0.0824, -0.0319,  0.2064,  0.0919, -0.0013, -0.2141, -0.1046,  0.1314,\n",
    "          0.2071,  0.2425, -0.4362, -0.0621, -0.1553, -0.1078, -0.0973,  0.1891,\n",
    "          0.0676,  0.0218,  0.0210, -0.2649, -0.1024, -0.0159,  0.2650,  0.0116,\n",
    "         -0.0243, -0.0234,  0.0499, -0.1179,  0.0398,  0.0825, -0.2562,  0.0247,\n",
    "         -0.0538, -0.1929,  0.1805,  0.1164,  0.0676,  0.1022, -0.1806, -0.1072,\n",
    "         -0.0792,  0.0724, -0.1333, -0.0125,  0.3075, -0.3355, -0.0513,  0.2270,\n",
    "         -0.0973,  0.2638, -0.2009,  0.2577,  0.0676, -0.2044,  0.0846,  0.0234,\n",
    "         -0.0143, -0.2256,  0.0657,  0.0077,  0.0535,  0.1509,  0.2187, -0.1317,\n",
    "         -0.1807, -0.0756, -0.0639, -0.1023,  0.1224,  0.1546,  0.0827,  0.1643,\n",
    "          0.0172,  0.0298,  0.0832,  0.0700, -0.0038,  0.0874, -0.1106, -0.1469,\n",
    "          0.0057, -0.0404,  0.0836, -0.0277,  0.1041,  0.0014, -0.0043, -0.1346,\n",
    "          0.1213, -0.0477,  0.1692,  0.1569, -0.1660,  0.2608, -0.0623,  0.0188,\n",
    "          0.0712,  0.1095, -0.2359, -0.0670,  0.1413,  0.2177, -0.0797, -0.1232,\n",
    "          0.0164,  0.4779, -0.0158])\n",
    "target = torch.tensor([[0,0,1,0,0,0,0,0,0,0,0,0,0,0,0,0,0,0,0,0,0,0,0,0,0,0,0,0,0,0,0,0,0,0,0,0,0,0,0,0,0,0,0,0,0,0,0,0,0,0,\n",
    "                       0,0,0,0,0,0,0,0,0,0,0,0,0,0,0,0,0,0,0,0,0,0,0,0,0,0,0,0,0,0,0,0,0,0,0,0,0,0,0,0,0,0,0,0,0,0,0,0,0,0,\n",
    "                       0,0,0,0,0,0,0]])"
   ]
  },
  {
   "cell_type": "code",
   "execution_count": 33,
   "metadata": {},
   "outputs": [],
   "source": [
    "alpha = 1\n",
    "beta = 4.5"
   ]
  },
  {
   "cell_type": "code",
   "execution_count": 45,
   "metadata": {},
   "outputs": [
    {
     "data": {
      "text/plain": [
       "tensor(-0.5143)"
      ]
     },
     "execution_count": 45,
     "metadata": {},
     "output_type": "execute_result"
    }
   ],
   "source": [
    "def dual_cross_entropy(pred, target,alpha,beta):\n",
    "#     Lce = F.cross_entropy(pred, target)\n",
    "    \n",
    "    Lr = torch.sum((alpha*((1-target)*torch.log(alpha + pred))))/target.shape[0]\n",
    "    \n",
    "    return Lr\n",
    "dual_cross_entropy(pred, target,alpha,beta)    "
   ]
  }
 ],
 "metadata": {
  "kernelspec": {
   "display_name": "Python 3",
   "language": "python",
   "name": "python3"
  },
  "language_info": {
   "codemirror_mode": {
    "name": "ipython",
    "version": 3
   },
   "file_extension": ".py",
   "mimetype": "text/x-python",
   "name": "python",
   "nbconvert_exporter": "python",
   "pygments_lexer": "ipython3",
   "version": "3.7.3"
  }
 },
 "nbformat": 4,
 "nbformat_minor": 2
}

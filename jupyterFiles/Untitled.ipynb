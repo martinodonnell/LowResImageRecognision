{
 "cells": [
  {
   "cell_type": "code",
   "execution_count": 3,
   "metadata": {},
   "outputs": [],
   "source": [
    "import torch\n",
    "from torch.autograd import Variable\n"
   ]
  },
  {
   "cell_type": "code",
   "execution_count": 54,
   "metadata": {},
   "outputs": [
    {
     "data": {
      "text/plain": [
       "tensor([[[[ 1.0307,  0.8920, -0.1466,  ..., -0.8426,  0.7957,  0.4456],\n",
       "          [ 1.0947,  3.6109,  1.7984,  ...,  0.8484,  0.6350,  0.7477],\n",
       "          [-1.1144, -0.5874,  1.7488,  ..., -0.0214, -1.4376,  1.1282],\n",
       "          ...,\n",
       "          [-0.6721,  0.2818,  0.1878,  ...,  0.3299, -0.4792, -1.0605],\n",
       "          [ 0.7036, -0.2054,  1.3169,  ..., -0.5065,  1.1713, -1.9367],\n",
       "          [ 0.4769,  1.1660, -0.1592,  ...,  1.3226,  0.6718,  1.0418]],\n",
       "\n",
       "         [[-0.6345, -0.3984, -0.0131,  ...,  0.9417,  0.9967, -1.4190],\n",
       "          [-0.1242, -0.9832, -0.5063,  ..., -0.0624, -1.3705, -1.0027],\n",
       "          [ 0.5014, -0.2840, -2.0267,  ...,  0.1004,  2.2754, -1.0361],\n",
       "          ...,\n",
       "          [-0.0754,  1.2716, -0.8066,  ...,  0.8289,  0.4422, -1.1799],\n",
       "          [-0.3222,  1.8869, -0.4246,  ...,  1.0501, -1.3674, -0.1140],\n",
       "          [-0.9495,  1.5187, -0.7048,  ..., -0.8015, -0.4158,  1.3035]],\n",
       "\n",
       "         [[-0.5338, -1.0545, -1.2316,  ..., -0.4976, -0.0490,  1.0687],\n",
       "          [ 0.7434, -3.0879, -1.8564,  ..., -0.8646, -1.1157,  1.2260],\n",
       "          [ 0.4915, -0.3404,  0.2329,  ...,  0.7053,  1.0424,  0.8698],\n",
       "          ...,\n",
       "          [-0.6778, -1.1555,  0.0544,  ..., -2.0019,  0.2481, -0.1201],\n",
       "          [ 0.3675,  0.5948, -0.2253,  ..., -0.6454, -1.3158,  0.2438],\n",
       "          [ 0.7424,  1.0385, -0.2719,  ..., -0.5096,  0.3623,  0.4164]]]])"
      ]
     },
     "execution_count": 54,
     "metadata": {},
     "output_type": "execute_result"
    }
   ],
   "source": [
    "inputs = Variable(torch.randn(1,3,244,244))\n",
    "targets = Variable(torch.ones(1).long())\n",
    "inputs"
   ]
  },
  {
   "cell_type": "code",
   "execution_count": 11,
   "metadata": {},
   "outputs": [
    {
     "data": {
      "text/plain": [
       "torch.Size([1, 3, 244, 244])"
      ]
     },
     "execution_count": 11,
     "metadata": {},
     "output_type": "execute_result"
    }
   ],
   "source": [
    "inputs.shape"
   ]
  }
 ],
 "metadata": {
  "kernelspec": {
   "display_name": "Python 3",
   "language": "python",
   "name": "python3"
  },
  "language_info": {
   "codemirror_mode": {
    "name": "ipython",
    "version": 3
   },
   "file_extension": ".py",
   "mimetype": "text/x-python",
   "name": "python",
   "nbconvert_exporter": "python",
   "pygments_lexer": "ipython3",
   "version": "3.7.3"
  }
 },
 "nbformat": 4,
 "nbformat_minor": 2
}

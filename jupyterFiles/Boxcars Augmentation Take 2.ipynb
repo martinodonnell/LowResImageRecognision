{
 "cells": [
  {
   "cell_type": "code",
   "execution_count": 39,
   "metadata": {},
   "outputs": [],
   "source": [
    "# -*- coding: utf-8 -*-\n",
    "import cv2\n",
    "import numpy as np\n",
    "import random\n",
    "import pickle\n",
    "import matplotlib.pyplot as plt\n",
    "import "
   ]
  },
  {
   "cell_type": "markdown",
   "metadata": {},
   "source": [
    "# Augment Data"
   ]
  },
  {
   "cell_type": "code",
   "execution_count": 160,
   "metadata": {},
   "outputs": [],
   "source": [
    "def alter_HSV(img, change_probability = 0.6):\n",
    "    if random.random() < 1-change_probability:\n",
    "        return img\n",
    "    addToHue = random.randint(0,179)\n",
    "    addToSaturation = random.gauss(60, 20)\n",
    "    addToValue = random.randint(-50,50)\n",
    "    hsvVersion =  cv2.cvtColor(img, cv2.COLOR_RGB2HSV)\n",
    "    \n",
    "    channels = hsvVersion.transpose(2, 0, 1)\n",
    "    channels[0] = ((channels[0].astype(int) + addToHue)%180).astype(np.uint8)\n",
    "    channels[1] = (np.maximum(0, np.minimum(255, (channels[1].astype(int) + addToSaturation)))).astype(np.uint8)\n",
    "    channels[2] = (np.maximum(0, np.minimum(255, (channels[2].astype(int) + addToValue)))).astype(np.uint8)\n",
    "    hsvVersion = channels.transpose(1,2,0)   \n",
    "        \n",
    "    return cv2.cvtColor(hsvVersion, cv2.COLOR_HSV2RGB)\n",
    "\n",
    "#%%\n",
    "def image_drop(img, change_probability = 0.6):\n",
    "    if random.random() < 1-change_probability:\n",
    "        return img\n",
    "    width = random.randint(int(img.shape[1]*0.10), int(img.shape[1]*0.3))\n",
    "    height = random.randint(int(img.shape[0]*0.10), int(img.shape[0]*0.3))\n",
    "    x = random.randint(int(img.shape[1]*0.10), img.shape[1]-width-int(img.shape[1]*0.10))\n",
    "    y = random.randint(int(img.shape[0]*0.10), img.shape[0]-height-int(img.shape[0]*0.10))\n",
    "    img[y:y+height,x:x+width,:] = (np.random.rand(height,width,3)*255).astype(np.uint8)\n",
    "    return img\n",
    "\n",
    "#%%\n",
    "def add_bb_noise_flip(image, bb3d, flip, bb_noise):\n",
    "    bb3d = bb3d + bb_noise \n",
    "    if flip:\n",
    "        bb3d[:, 0] = image.shape[1] - bb3d[:,0]\n",
    "        image = cv2.flip(image, 1)\n",
    "    return image, bb3d\n",
    "\n",
    "#%%\n",
    "def _unpack_side(img, origPoints, targetSize):\n",
    "    origPoints = np.array(origPoints).reshape(-1,1,2)\n",
    "    targetPoints = np.array([(0,0), (targetSize[0],0), (0, targetSize[1]), \n",
    "                             (targetSize[0], targetSize[1])]).reshape(-1,1,2).astype(origPoints.dtype)\n",
    "    m, _ = cv2.findHomography(origPoints, targetPoints, 0)\n",
    "    resultImage = cv2.warpPerspective(img, m, targetSize)\n",
    "    return resultImage\n",
    "    \n",
    "    \n",
    "#%%    \n",
    "def unpack_3DBB(img, bb):\n",
    "    frontal = _unpack_side(img, [bb[0], bb[1], bb[4], bb[5]], (75,124))\n",
    "    side = _unpack_side(img, [bb[1], bb[2], bb[5], bb[6]], (149,124))\n",
    "    roof = _unpack_side(img, [bb[0], bb[3], bb[1], bb[2]], (149,100))\n",
    "    \n",
    "    final = np.zeros((224,224,3), dtype=frontal.dtype)\n",
    "    final[100:, 0:75] = frontal\n",
    "    final[0:100, 75:] = roof\n",
    "    final[100:, 75:] = side\n",
    "    \n",
    "    return final"
   ]
  },
  {
   "cell_type": "markdown",
   "metadata": {},
   "source": [
    "# Reading in image and boxcar files"
   ]
  },
  {
   "cell_type": "code",
   "execution_count": 41,
   "metadata": {},
   "outputs": [],
   "source": [
    "\n",
    "def get_vehicle_instance_data(vehicle_id, instance_id, original_image_coordinates=False):\n",
    "    \"\"\"\n",
    "    original_image_coordinates: the 3DBB coordinates are in the original image space\n",
    "                                to convert them into cropped image space, it is necessary to subtract instance[\"3DBB_offset\"]\n",
    "                                which is done if this parameter is False. \n",
    "    \"\"\"\n",
    "    vehicle = dataset[\"samples\"][vehicle_id]\n",
    "    instance = vehicle[\"instances\"][instance_id]\n",
    "    bb3d = instance[\"3DBB\"]\n",
    "\n",
    "    return vehicle, instance, bb3d\n",
    "\n",
    "def get_image(vehicle_id, instance_id):\n",
    "    return cv2.cvtColor(cv2.imdecode(atlas[vehicle_id][instance_id], 1), cv2.COLOR_BGR2RGB)\n",
    "def load_cache(path, encoding=\"latin-1\", fix_imports=True):\n",
    "        \"\"\"\n",
    "        encoding latin-1 is default for Python2 compatibility\n",
    "        \"\"\"\n",
    "        with open(path, \"rb\") as f:\n",
    "            return pickle.load(f, encoding=encoding, fix_imports=True)\n"
   ]
  },
  {
   "cell_type": "code",
   "execution_count": 42,
   "metadata": {},
   "outputs": [],
   "source": [
    "cars_annotations = []\n",
    "split = load_cache('../data/BoxCars/classification_splits.pkl')['hard']\n",
    "dataset = load_cache('../data/BoxCars/dataset.pkl')\n",
    "atlas = load_cache('../data/BoxCars/atlas.pkl')"
   ]
  },
  {
   "cell_type": "code",
   "execution_count": 179,
   "metadata": {},
   "outputs": [],
   "source": [
    "i=0\n",
    "vehicle_id, instance_id = 0,0\n",
    "vehicle, instance, bb3d = get_vehicle_instance_data(vehicle_id, instance_id)\n",
    "before_image = get_image(vehicle_id, instance_id)\n",
    "\n",
    "image = get_image(vehicle_id, instance_id)\n",
    "x = np.empty([1] + list((224,224)) + [3], dtype=np.float32)\n",
    "if True:\n",
    "    image = alter_HSV(image) # randomly alternate color\n",
    "    image = image_drop(image) # randomly remove part of the image\n",
    "    bb_noise = np.clip(np.random.randn(2) * 1.5, -5, 5) # generate random bounding box movement\n",
    "    flip = bool(random.getrandbits(1)) # random flip\n",
    "    image, bb3d = add_bb_noise_flip(image, bb3d, flip, bb_noise) \n",
    "image = unpack_3DBB(image, bb3d) \n",
    "# print(type(image))\n",
    "# image = (image.astype(np.float32) - 116)/128.\n",
    "# x[i, ...] = image\n"
   ]
  },
  {
   "cell_type": "code",
   "execution_count": 108,
   "metadata": {},
   "outputs": [],
   "source": [
    "from PIL import Image\n"
   ]
  },
  {
   "cell_type": "code",
   "execution_count": 127,
   "metadata": {},
   "outputs": [],
   "source": [
    "bb3d = np.array([[142.407 , 256.968 ],\n",
    "       [110.31  , 260.801 ],\n",
    "       [ 70.7555, 251.756 ],\n",
    "       [101.034 , 248.509 ],\n",
    "       [144.408 , 290.814 ],\n",
    "       [112.576 , 295.644 ],\n",
    "       [ 73.0434, 283.458 ],\n",
    "       [103.09  , 279.384 ]])"
   ]
  },
  {
   "cell_type": "code",
   "execution_count": 158,
   "metadata": {},
   "outputs": [
    {
     "data": {
      "text/plain": [
       "PIL.Image.Image"
      ]
     },
     "execution_count": 158,
     "metadata": {},
     "output_type": "execute_result"
    }
   ],
   "source": [
    "type(img)"
   ]
  },
  {
   "cell_type": "code",
   "execution_count": 183,
   "metadata": {},
   "outputs": [
    {
     "name": "stdout",
     "output_type": "stream",
     "text": [
      "<class 'numpy.ndarray'>\n"
     ]
    },
    {
     "data": {
      "image/png": "[encoded data removed]",
      "text/plain": [
       "<PIL.Image.Image image mode=RGB size=224x224 at 0x1218117F0>"
      ]
     },
     "execution_count": 183,
     "metadata": {},
     "output_type": "execute_result"
    }
   ],
   "source": [
    "fn = '/Users/martinodonnell/Documents/uni/fourth_year/4006/LowResImageRecognision/data/BoxCars/images/uvoz/0/000000_002.png'\n",
    "img = Image.open(fn)\n",
    "img = np.array(img)\n",
    "\n",
    "img = alter_HSV(img) # randomly alternate color\n",
    "img = image_drop(img) # randomly remove part of the image\n",
    "bb_noise = np.clip(np.random.randn(2) * 1.5, -5, 5) # generate random bounding box movement\n",
    "flip = bool(random.getrandbits(1)) # random flip\n",
    "img, bb3d = add_bb_noise_flip(img, bb3d, flip, bb_noise) \n",
    "\n",
    "img = unpack_3DBB(img, bb3d) \n",
    "# img = (img.astype(np.float32) - 116)/128.\n",
    "print(type(img))\n",
    "\n",
    "img = Image.fromarray(img)\n",
    "img"
   ]
  }
 ],
 "metadata": {
  "kernelspec": {
   "display_name": "Python 3",
   "language": "python",
   "name": "python3"
  }
 },
 "nbformat": 4,
 "nbformat_minor": 2
}

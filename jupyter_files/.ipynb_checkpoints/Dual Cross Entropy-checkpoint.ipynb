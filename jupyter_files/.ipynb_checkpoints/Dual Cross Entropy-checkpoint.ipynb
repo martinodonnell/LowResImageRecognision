{
 "cells": [
  {
   "cell_type": "code",
   "execution_count": 3,
   "metadata": {},
   "outputs": [],
   "source": [
    "import argparse\n",
    "import os\n",
    "import pprint as pp\n",
    "import time\n",
    "\n",
    "import torch.optim as optim\n",
    "import torch.nn.functional as F\n",
    "import torch.nn as nn\n",
    "import torch\n",
    "import pandas as pd\n",
    "import time"
   ]
  },
  {
   "cell_type": "code",
   "execution_count": 8,
   "metadata": {},
   "outputs": [],
   "source": [
    "pred = torch.tensor([[-0.0824, -0.0319,  0.2064,  0.0919, -0.0013, -0.2141, -0.1046,  0.1314,\n",
    "          0.2071,  0.2425, -0.4362, -0.0621, -0.1553, -0.1078, -0.0973,  0.1891,\n",
    "          0.0676,  0.0218,  0.0210, -0.2649, -0.1024, -0.0159,  0.2650,  0.0116,\n",
    "         -0.0243, -0.0234,  0.0499, -0.1179,  0.0398,  0.0825, -0.2562,  0.0247,\n",
    "         -0.0538, -0.1929,  0.1805,  0.1164,  0.0676,  0.1022, -0.1806, -0.1072,\n",
    "         -0.0792,  0.0724, -0.1333, -0.0125,  0.3075, -0.3355, -0.0513,  0.2270,\n",
    "         -0.0973,  0.2638, -0.2009,  0.2577,  0.0676, -0.2044,  0.0846,  0.0234,\n",
    "         -0.0143, -0.2256,  0.0657,  0.0077,  0.0535,  0.1509,  0.2187, -0.1317,\n",
    "         -0.1807, -0.0756, -0.0639, -0.1023,  0.1224,  0.1546,  0.0827,  0.1643,\n",
    "          0.0172,  0.0298,  0.0832,  0.0700, -0.0038,  0.0874, -0.1106, -0.1469,\n",
    "          0.0057, -0.0404,  0.0836, -0.0277,  0.1041,  0.0014, -0.0043, -0.1346,\n",
    "          0.1213, -0.0477,  0.1692,  0.1569, -0.1660,  0.2608, -0.0623,  0.0188,\n",
    "          0.0712,  0.1095, -0.2359, -0.0670,  0.1413,  0.2177, -0.0797, -0.1232,\n",
    "          0.0164,  0.4779, -0.0158]])\n",
    "target = torch.tensor([[-0.0824, -0.0319,  0.2064,  0.0919, -0.0013, -0.2141, -0.1046,  0.1314,\n",
    "          0.2071,  0.2425, -0.4362, -0.0621, -0.1553, -0.1078, -0.0973,  0.1891,\n",
    "          0.0676,  0.0218,  0.0210, -0.2649, -0.1024, -0.0159,  0.2650,  0.0116,\n",
    "         -0.0243, -0.0234,  0.0499, -0.1179,  0.0398,  0.0825, -0.2562,  0.0247,\n",
    "         -0.0538, -0.1929,  0.1805,  0.1164,  0.0676,  0.1022, -0.1806, -0.1072,\n",
    "         -0.0792,  0.0724, -0.1333, -0.0125,  0.3075, -0.3355, -0.0513,  0.2270,\n",
    "         -0.0973,  0.2638, -0.2009,  0.2577,  0.0676, -0.2044,  0.0846,  0.0234,\n",
    "         -0.0143, -0.2256,  0.0657,  0.0077,  0.0535,  0.1509,  0.2187, -0.1317,\n",
    "         -0.1807, -0.0756, -0.0639, -0.1023,  0.1224,  0.1546,  0.0827,  0.1643,\n",
    "          0.0172,  0.0298,  0.0832,  0.0700, -0.0038,  0.0874, -0.1106, -0.1469,\n",
    "          0.0057, -0.0404,  0.0836, -0.0277,  0.1041,  0.0014, -0.0043, -0.1346,\n",
    "          0.1213, -0.0477,  0.1692,  0.1569, -0.1660,  0.2608, -0.0623,  0.0188,\n",
    "          0.0712,  0.1095, -0.2359, -0.0670,  0.1413,  0.2177, -0.0797, -0.1232,\n",
    "          0.0164,  0.4779, -0.0158]])"
   ]
  },
  {
   "cell_type": "code",
   "execution_count": 9,
   "metadata": {},
   "outputs": [
    {
     "ename": "RuntimeError",
     "evalue": "Expected object of scalar type Long but got scalar type Float for argument #2 'target' in call to _thnn_nll_loss_forward",
     "output_type": "error",
     "traceback": [
      "\u001b[0;31m---------------------------------------------------------------------------\u001b[0m",
      "\u001b[0;31mRuntimeError\u001b[0m                              Traceback (most recent call last)",
      "\u001b[0;32m<ipython-input-9-26e583efd8fa>\u001b[0m in \u001b[0;36m<module>\u001b[0;34m\u001b[0m\n\u001b[0;32m----> 1\u001b[0;31m \u001b[0mF\u001b[0m\u001b[0;34m.\u001b[0m\u001b[0mcross_entropy\u001b[0m\u001b[0;34m(\u001b[0m\u001b[0mpred\u001b[0m\u001b[0;34m,\u001b[0m \u001b[0mtarget\u001b[0m\u001b[0;34m)\u001b[0m\u001b[0;34m\u001b[0m\u001b[0;34m\u001b[0m\u001b[0m\n\u001b[0m",
      "\u001b[0;32m/usr/local/lib/python3.7/site-packages/torch/nn/functional.py\u001b[0m in \u001b[0;36mcross_entropy\u001b[0;34m(input, target, weight, size_average, ignore_index, reduce, reduction)\u001b[0m\n\u001b[1;32m   2007\u001b[0m     \u001b[0;32mif\u001b[0m \u001b[0msize_average\u001b[0m \u001b[0;32mis\u001b[0m \u001b[0;32mnot\u001b[0m \u001b[0;32mNone\u001b[0m \u001b[0;32mor\u001b[0m \u001b[0mreduce\u001b[0m \u001b[0;32mis\u001b[0m \u001b[0;32mnot\u001b[0m \u001b[0;32mNone\u001b[0m\u001b[0;34m:\u001b[0m\u001b[0;34m\u001b[0m\u001b[0;34m\u001b[0m\u001b[0m\n\u001b[1;32m   2008\u001b[0m         \u001b[0mreduction\u001b[0m \u001b[0;34m=\u001b[0m \u001b[0m_Reduction\u001b[0m\u001b[0;34m.\u001b[0m\u001b[0mlegacy_get_string\u001b[0m\u001b[0;34m(\u001b[0m\u001b[0msize_average\u001b[0m\u001b[0;34m,\u001b[0m \u001b[0mreduce\u001b[0m\u001b[0;34m)\u001b[0m\u001b[0;34m\u001b[0m\u001b[0;34m\u001b[0m\u001b[0m\n\u001b[0;32m-> 2009\u001b[0;31m     \u001b[0;32mreturn\u001b[0m \u001b[0mnll_loss\u001b[0m\u001b[0;34m(\u001b[0m\u001b[0mlog_softmax\u001b[0m\u001b[0;34m(\u001b[0m\u001b[0minput\u001b[0m\u001b[0;34m,\u001b[0m \u001b[0;36m1\u001b[0m\u001b[0;34m)\u001b[0m\u001b[0;34m,\u001b[0m \u001b[0mtarget\u001b[0m\u001b[0;34m,\u001b[0m \u001b[0mweight\u001b[0m\u001b[0;34m,\u001b[0m \u001b[0;32mNone\u001b[0m\u001b[0;34m,\u001b[0m \u001b[0mignore_index\u001b[0m\u001b[0;34m,\u001b[0m \u001b[0;32mNone\u001b[0m\u001b[0;34m,\u001b[0m \u001b[0mreduction\u001b[0m\u001b[0;34m)\u001b[0m\u001b[0;34m\u001b[0m\u001b[0;34m\u001b[0m\u001b[0m\n\u001b[0m\u001b[1;32m   2010\u001b[0m \u001b[0;34m\u001b[0m\u001b[0m\n\u001b[1;32m   2011\u001b[0m \u001b[0;34m\u001b[0m\u001b[0m\n",
      "\u001b[0;32m/usr/local/lib/python3.7/site-packages/torch/nn/functional.py\u001b[0m in \u001b[0;36mnll_loss\u001b[0;34m(input, target, weight, size_average, ignore_index, reduce, reduction)\u001b[0m\n\u001b[1;32m   1836\u001b[0m                          .format(input.size(0), target.size(0)))\n\u001b[1;32m   1837\u001b[0m     \u001b[0;32mif\u001b[0m \u001b[0mdim\u001b[0m \u001b[0;34m==\u001b[0m \u001b[0;36m2\u001b[0m\u001b[0;34m:\u001b[0m\u001b[0;34m\u001b[0m\u001b[0;34m\u001b[0m\u001b[0m\n\u001b[0;32m-> 1838\u001b[0;31m         \u001b[0mret\u001b[0m \u001b[0;34m=\u001b[0m \u001b[0mtorch\u001b[0m\u001b[0;34m.\u001b[0m\u001b[0m_C\u001b[0m\u001b[0;34m.\u001b[0m\u001b[0m_nn\u001b[0m\u001b[0;34m.\u001b[0m\u001b[0mnll_loss\u001b[0m\u001b[0;34m(\u001b[0m\u001b[0minput\u001b[0m\u001b[0;34m,\u001b[0m \u001b[0mtarget\u001b[0m\u001b[0;34m,\u001b[0m \u001b[0mweight\u001b[0m\u001b[0;34m,\u001b[0m \u001b[0m_Reduction\u001b[0m\u001b[0;34m.\u001b[0m\u001b[0mget_enum\u001b[0m\u001b[0;34m(\u001b[0m\u001b[0mreduction\u001b[0m\u001b[0;34m)\u001b[0m\u001b[0;34m,\u001b[0m \u001b[0mignore_index\u001b[0m\u001b[0;34m)\u001b[0m\u001b[0;34m\u001b[0m\u001b[0;34m\u001b[0m\u001b[0m\n\u001b[0m\u001b[1;32m   1839\u001b[0m     \u001b[0;32melif\u001b[0m \u001b[0mdim\u001b[0m \u001b[0;34m==\u001b[0m \u001b[0;36m4\u001b[0m\u001b[0;34m:\u001b[0m\u001b[0;34m\u001b[0m\u001b[0;34m\u001b[0m\u001b[0m\n\u001b[1;32m   1840\u001b[0m         \u001b[0mret\u001b[0m \u001b[0;34m=\u001b[0m \u001b[0mtorch\u001b[0m\u001b[0;34m.\u001b[0m\u001b[0m_C\u001b[0m\u001b[0;34m.\u001b[0m\u001b[0m_nn\u001b[0m\u001b[0;34m.\u001b[0m\u001b[0mnll_loss2d\u001b[0m\u001b[0;34m(\u001b[0m\u001b[0minput\u001b[0m\u001b[0;34m,\u001b[0m \u001b[0mtarget\u001b[0m\u001b[0;34m,\u001b[0m \u001b[0mweight\u001b[0m\u001b[0;34m,\u001b[0m \u001b[0m_Reduction\u001b[0m\u001b[0;34m.\u001b[0m\u001b[0mget_enum\u001b[0m\u001b[0;34m(\u001b[0m\u001b[0mreduction\u001b[0m\u001b[0;34m)\u001b[0m\u001b[0;34m,\u001b[0m \u001b[0mignore_index\u001b[0m\u001b[0;34m)\u001b[0m\u001b[0;34m\u001b[0m\u001b[0;34m\u001b[0m\u001b[0m\n",
      "\u001b[0;31mRuntimeError\u001b[0m: Expected object of scalar type Long but got scalar type Float for argument #2 'target' in call to _thnn_nll_loss_forward"
     ]
    }
   ],
   "source": [
    "F.cross_entropy(pred, target)"
   ]
  },
  {
   "cell_type": "code",
   "execution_count": 13,
   "metadata": {},
   "outputs": [],
   "source": [
    "alpha = 1\n",
    "beta = 4.5"
   ]
  },
  {
   "cell_type": "code",
   "execution_count": 32,
   "metadata": {},
   "outputs": [],
   "source": [
    "def dual_cross_entropy(pred, target,alpha,beta):\n",
    "    Lce = F.cross_entropy(pred, target)\n",
    "    Lr = (alpha*((1-target)*torch.log(alpha + pred)))/target.shape[1]\n",
    "    \n",
    "    return Lr\n",
    "    "
   ]
  },
  {
   "cell_type": "code",
   "execution_count": 35,
   "metadata": {},
   "outputs": [
    {
     "data": {
      "text/plain": [
       "tensor([[-8.6990e-04, -3.1265e-04,  1.3917e-03,  7.4616e-04, -1.2173e-05,\n",
       "         -2.7337e-03, -1.1406e-03,  1.0022e-03,  1.3948e-03,  1.5371e-03,\n",
       "         -7.6918e-03, -6.3639e-04, -1.8223e-03, -1.1809e-03, -1.0498e-03,\n",
       "          1.3126e-03,  5.7001e-04,  1.9716e-04,  1.9015e-04, -3.6380e-03,\n",
       "         -1.1130e-03, -1.5217e-04,  1.6147e-03,  1.0654e-04, -2.3549e-04,\n",
       "         -2.2647e-04,  4.3238e-04, -1.3107e-03,  3.5023e-04,  6.7975e-04,\n",
       "         -3.4749e-03,  2.2240e-04, -5.4464e-04, -2.3892e-03,  1.2709e-03,\n",
       "          9.0928e-04,  5.7001e-04,  8.1648e-04, -2.1977e-03, -1.1733e-03,\n",
       "         -8.3222e-04,  6.0597e-04, -1.5153e-03, -1.1903e-04,  1.7352e-03,\n",
       "         -5.1014e-03, -5.1742e-04,  1.4779e-03, -1.0498e-03,  1.6109e-03,\n",
       "         -2.5171e-03,  1.5906e-03,  5.7001e-04, -2.5738e-03,  6.9477e-04,\n",
       "          2.1111e-04, -1.3653e-04, -2.9285e-03,  5.5562e-04,  7.1135e-05,\n",
       "          4.6103e-04,  1.1153e-03,  1.4442e-03, -1.4936e-03, -2.1992e-03,\n",
       "         -7.9022e-04, -6.5657e-04, -1.1118e-03,  9.4706e-04,  1.1358e-03,\n",
       "          6.8118e-04,  1.1881e-03,  1.5664e-04,  2.6626e-04,  6.8477e-04,\n",
       "          5.8806e-04, -3.5717e-05,  7.1464e-04, -1.2166e-03, -1.7030e-03,\n",
       "          5.2817e-05, -4.0098e-04,  6.8763e-04, -2.6980e-04,  8.2917e-04,\n",
       "          1.3057e-05, -4.0447e-05, -1.5329e-03,  9.4020e-04, -4.7857e-04,\n",
       "          1.2137e-03,  1.1484e-03, -1.9781e-03,  1.6010e-03, -6.3862e-04,\n",
       "          1.7080e-04,  5.9703e-04,  8.6478e-04, -3.1077e-03, -6.9156e-04,\n",
       "          1.0607e-03,  1.4400e-03, -8.3809e-04, -1.3801e-03,  1.4953e-04,\n",
       "          1.9060e-03, -1.5119e-04]])"
      ]
     },
     "execution_count": 35,
     "metadata": {},
     "output_type": "execute_result"
    }
   ],
   "source": [
    "dual_cross_entroy(pred, target,alpha,beta)"
   ]
  }
 ],
 "metadata": {
  "kernelspec": {
   "display_name": "Python 3",
   "language": "python",
   "name": "python3"
  },
  "language_info": {
   "codemirror_mode": {
    "name": "ipython",
    "version": 3
   },
   "file_extension": ".py",
   "mimetype": "text/x-python",
   "name": "python",
   "nbconvert_exporter": "python",
   "pygments_lexer": "ipython3",
   "version": "3.7.3"
  }
 },
 "nbformat": 4,
 "nbformat_minor": 2
}
